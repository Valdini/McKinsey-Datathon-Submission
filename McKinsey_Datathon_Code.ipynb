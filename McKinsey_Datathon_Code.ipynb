{
  "nbformat": 4,
  "nbformat_minor": 0,
  "metadata": {
    "colab": {
      "name": "McKinsey Datathon_Code.ipynb",
      "version": "0.3.2",
      "provenance": [],
      "collapsed_sections": [],
      "include_colab_link": true
    },
    "kernelspec": {
      "name": "python3",
      "display_name": "Python 3"
    },
    "accelerator": "GPU"
  },
  "cells": [
    {
      "cell_type": "markdown",
      "metadata": {
        "id": "view-in-github",
        "colab_type": "text"
      },
      "source": [
        "<a href=\"https://colab.research.google.com/github/Valdini/McKinsey-Datathon-Submission/blob/master/McKinsey_Datathon_Code.ipynb\" target=\"_parent\"><img src=\"https://colab.research.google.com/assets/colab-badge.svg\" alt=\"Open In Colab\"/></a>"
      ]
    },
    {
      "metadata": {
        "id": "dB93q3i2CTkF",
        "colab_type": "code",
        "outputId": "b8698cf5-85c2-4667-f624-11bdcddacf9e",
        "colab": {
          "resources": {
            "http://localhost:8080/nbextensions/google.colab/files.js": {
              "data": "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",
              "ok": true,
              "headers": [
                [
                  "content-type",
                  "application/javascript"
                ]
              ],
              "status": 200,
              "status_text": ""
            }
          },
          "base_uri": "https://localhost:8080/",
          "height": 143
        }
      },
      "cell_type": "code",
      "source": [
        "'''Documentation at the end'''\n",
        "'''Part B - Files Import and Data Preparation (Part A is Insights, as documented in separate document)''' \n",
        "\n",
        "'''lots of commented input refers to results of executed code or the vehicle_dataset, which I decided to not use at a late stage'''\n",
        "\n",
        "#File Import from Desktop, based on Pandas, IO, Google.Colab\n",
        "import pandas as pd\n",
        "import io\n",
        "from google.colab import files\n",
        "uploaded = files.upload()\n",
        "#vehicle_data = pd.read_csv(io.StringIO(uploaded['vehicles.csv'].decode('utf-8')))\n",
        "test_data = pd.read_csv(io.StringIO(uploaded['test.csv'].decode('utf-8')))\n",
        "train_data = pd.read_csv(io.StringIO(uploaded['train.csv'].decode('utf-8')))"
      ],
      "execution_count": 0,
      "outputs": [
        {
          "output_type": "display_data",
          "data": {
            "text/html": [
              "\n",
              "     <input type=\"file\" id=\"files-0645b121-a470-4830-a1b5-a1f5f44afb2e\" name=\"files[]\" multiple disabled />\n",
              "     <output id=\"result-0645b121-a470-4830-a1b5-a1f5f44afb2e\">\n",
              "      Upload widget is only available when the cell has been executed in the\n",
              "      current browser session. Please rerun this cell to enable.\n",
              "      </output>\n",
              "      <script src=\"/nbextensions/google.colab/files.js\"></script> "
            ],
            "text/plain": [
              "<IPython.core.display.HTML object>"
            ]
          },
          "metadata": {
            "tags": []
          }
        },
        {
          "output_type": "stream",
          "text": [
            "Saving test.csv to test (1).csv\n",
            "Saving train.csv to train (1).csv\n"
          ],
          "name": "stdout"
        },
        {
          "output_type": "stream",
          "text": [
            "/usr/local/lib/python3.6/dist-packages/IPython/core/interactiveshell.py:2718: DtypeWarning: Columns (25) have mixed types. Specify dtype option on import or set low_memory=False.\n",
            "  interactivity=interactivity, compiler=compiler, result=result)\n"
          ],
          "name": "stderr"
        }
      ]
    },
    {
      "metadata": {
        "id": "LfijQz_ud0jr",
        "colab_type": "code",
        "outputId": "080885a4-0f35-4b4e-809e-1b961f55b478",
        "colab": {
          "base_uri": "https://localhost:8080/",
          "height": 52
        }
      },
      "cell_type": "code",
      "source": [
        "test_data = pd.read_csv(io.StringIO(uploaded['test.csv'].decode('utf-8')))\n",
        "train_data = pd.read_csv(io.StringIO(uploaded['train.csv'].decode('utf-8')))"
      ],
      "execution_count": 0,
      "outputs": [
        {
          "output_type": "stream",
          "text": [
            "/usr/local/lib/python3.6/dist-packages/IPython/core/interactiveshell.py:2718: DtypeWarning: Columns (25) have mixed types. Specify dtype option on import or set low_memory=False.\n",
            "  interactivity=interactivity, compiler=compiler, result=result)\n"
          ],
          "name": "stderr"
        }
      ]
    },
    {
      "metadata": {
        "id": "DPEPiKMDDSo8",
        "colab_type": "code",
        "colab": {}
      },
      "cell_type": "code",
      "source": [
        "#Shuffle Data as a light measure to work with imbalanced classes\n",
        "from sklearn.utils import shuffle\n",
        "import numpy as np\n",
        "train_data = shuffle(train_data)\n",
        "test_data = shuffle(test_data)\n",
        "test_data['target'] = np.random.choice(2, (len(test_data)))"
      ],
      "execution_count": 0,
      "outputs": []
    },
    {
      "metadata": {
        "id": "1x8uFnp4Jben",
        "colab_type": "code",
        "outputId": "202d37e7-8df7-41de-9814-b2e8da5e4c0a",
        "colab": {
          "base_uri": "https://localhost:8080/",
          "height": 70
        }
      },
      "cell_type": "code",
      "source": [
        "'''Part C - Exploratory Data Analysis (EDA)'''\n",
        "\n",
        "\n",
        "print(\"Shape of Training Data:\", train_data.shape)\n",
        "print(\"Shape of Testing Data:\", test_data.shape)\n",
        "#print(\"Shape of Vehicle Data:\", vehicle_data.shape)\n",
        "\n",
        "'''\n",
        "Shape of Training Data (136575, 30)\n",
        "Shape of Testing Data (129950, 29)\n",
        "Shape of Vehicle Data (451396, 22), several vehicles per accident, thus join with Training Data on \"accident_id\"\n",
        "\n",
        "print(\"train nans:\", train_data.isna().sum())\n",
        "excluded Variables from train_data (more than 50'000 NaNS): junction_control, 2nd_road_class\n",
        "potentially to be imputed: lsoa_of_accident_location\n",
        "\n",
        "print(\"Test nans:\", test_data.isna().sum())\n",
        "excluded Variables from test_data (more than 50'000 NaNS): junction_control, 2nd_road_class\n",
        "potentially to be imputed: pedestrian_crossing-human_control, pedestrian_crossing-physical_facilities, road_surface_conditions, lsoa_of_accident_location, special_conditions_at_site, carriageway_hazards\n",
        "\n",
        "print(\"Vehicle nans:\", vehicle_data.isna().sum())\n",
        "excluded Variables from vehicle_data (more than 50'000 NaNS): Age_of_Driver, Engine_Capacity_(CC), Propulsion_Code, Age_of_Vehicle, Driver_IMD_Decile, Driver_Home_Area_Type, Vehicle_IMD_Decile\n",
        "potentially to be imputed: Towing_and_Articulation, Vehicle_Manoeuvre, Vehicle_Location-Restricted_Lane, Junction_Location, Skidding_and_Overturning, Hit_Object_in_Carriageway, Vehicle_Leaving_Carriageway, Hit_Object_off_Carriageway, 1st_Point_of_Impact, Was_Vehicle_Left_Hand_Drive?\n",
        "'''                                      "
      ],
      "execution_count": 0,
      "outputs": [
        {
          "output_type": "stream",
          "text": [
            "Shape of Training Data: (136575, 30)\n",
            "Shape of Testing Data: (129950, 29)\n"
          ],
          "name": "stdout"
        },
        {
          "output_type": "execute_result",
          "data": {
            "text/plain": [
              "'\\nShape of Training Data (136575, 30)\\nShape of Testing Data (129950, 29)\\nShape of Vehicle Data (451396, 22), several vehicles per accident, thus join with Training Data on \"accident_id\"\\n'"
            ]
          },
          "metadata": {
            "tags": []
          },
          "execution_count": 5
        }
      ]
    },
    {
      "metadata": {
        "id": "xOSC8Dh2TQLC",
        "colab_type": "code",
        "outputId": "6f902223-ebe9-4832-ca52-4674254fa368",
        "colab": {
          "base_uri": "https://localhost:8080/",
          "height": 606
        }
      },
      "cell_type": "code",
      "source": [
        "print(\"Data Types of Training Data:\", train_data.dtypes)\n",
        "#print(\"Data Types of Vehicle Data:\", vehicle_data.dtypes)\n",
        "\n",
        "'''\n",
        "All data has type int64, float64 or object\n",
        "Int64 and float64 can be standardized\n",
        "Object data needs to be multi-label-encoded or one-hot-encoded (curse of dimensionality if lots of different values per column)\n",
        "'''"
      ],
      "execution_count": 0,
      "outputs": [
        {
          "output_type": "stream",
          "text": [
            "Data Types of Training Data: accident_id                                  int64\n",
            "location_easting_osgr                      float64\n",
            "location_northing_osgr                     float64\n",
            "longitude                                  float64\n",
            "latitude                                   float64\n",
            "number_of_vehicles                           int64\n",
            "number_of_casualties                         int64\n",
            "date                                        object\n",
            "time                                        object\n",
            "1st_road_class                              object\n",
            "1st_road_number                              int64\n",
            "road_type                                   object\n",
            "speed_limit                                float64\n",
            "junction_detail                             object\n",
            "junction_control                            object\n",
            "2nd_road_class                              object\n",
            "2nd_road_number                            float64\n",
            "pedestrian_crossing-human_control           object\n",
            "pedestrian_crossing-physical_facilities     object\n",
            "light_conditions                            object\n",
            "weather_conditions                          object\n",
            "road_surface_conditions                     object\n",
            "special_conditions_at_site                  object\n",
            "carriageway_hazards                         object\n",
            "urban_or_rural_area                         object\n",
            "lsoa_of_accident_location                   object\n",
            "police_force                                object\n",
            "local_authority_district                    object\n",
            "local_authority_highway                     object\n",
            "target                                       int64\n",
            "dtype: object\n"
          ],
          "name": "stdout"
        },
        {
          "output_type": "execute_result",
          "data": {
            "text/plain": [
              "'\\nAll data has type int64, float64 or object\\nInt64 and float64 can be standardized\\nObject data needs to be multi-label-encoded or one-hot-encoded (curse of dimensionality if lots of different values per column)\\n'"
            ]
          },
          "metadata": {
            "tags": []
          },
          "execution_count": 6
        }
      ]
    },
    {
      "metadata": {
        "id": "WB8YEJ1XhQCS",
        "colab_type": "code",
        "outputId": "dc00d58b-2841-49d3-d00c-cd855dce1106",
        "colab": {
          "base_uri": "https://localhost:8080/",
          "height": 212
        }
      },
      "cell_type": "code",
      "source": [
        "#Overview of Columns for Training and Vehicle Data\n",
        "print(\"Train_data columns:\", train_data.columns)\n",
        "#print(\"Vehicle_data columns:\", vehicle_data.columns)"
      ],
      "execution_count": 0,
      "outputs": [
        {
          "output_type": "stream",
          "text": [
            "Train_data columns: Index(['accident_id', 'location_easting_osgr', 'location_northing_osgr',\n",
            "       'longitude', 'latitude', 'number_of_vehicles', 'number_of_casualties',\n",
            "       'date', 'time', '1st_road_class', '1st_road_number', 'road_type',\n",
            "       'speed_limit', 'junction_detail', 'junction_control', '2nd_road_class',\n",
            "       '2nd_road_number', 'pedestrian_crossing-human_control',\n",
            "       'pedestrian_crossing-physical_facilities', 'light_conditions',\n",
            "       'weather_conditions', 'road_surface_conditions',\n",
            "       'special_conditions_at_site', 'carriageway_hazards',\n",
            "       'urban_or_rural_area', 'lsoa_of_accident_location', 'police_force',\n",
            "       'local_authority_district', 'local_authority_highway', 'target'],\n",
            "      dtype='object')\n"
          ],
          "name": "stdout"
        }
      ]
    },
    {
      "metadata": {
        "id": "syW-P0kjhhsG",
        "colab_type": "code",
        "outputId": "8760d90c-392f-47ae-dcc2-b9b272a0a6c3",
        "colab": {
          "base_uri": "https://localhost:8080/",
          "height": 250
        }
      },
      "cell_type": "code",
      "source": [
        "#Checking for each dtype=object column whether feature is categorical (finite number of possible values) or text (infinite number of possible values)\n",
        "print(\"Checking each column for train and vehicle data: \\n\", train_data['junction_detail'].value_counts())\n",
        "\n",
        "'''\n",
        "train_data:\n",
        "n = number of categories\n",
        "road_type = categorical (n=6, one-hot)\n",
        "date = text (clean by removing year and day)\n",
        "time = many different values (here makes sense to int() and StandardScale)\n",
        "1st_road_class = categorical (n=6, one-hot)\n",
        "junction_detail = categorical (n=9, one-hot)\n",
        "junction_control = categorical (n=5, one-hot)\n",
        "2nd_road_class = categorical (n=6, one-hot)\n",
        "pedestrian_crossing-human_control = categorical (n=3, one-hot)\n",
        "pedestrian_crossing-physical_facilities = categorical (n=6, one-hot)\n",
        "light_conditions = categorical (n=5, one-hot)\n",
        "weather_conditions = categorical (n=9, one-hot)                        \n",
        "road_surface_conditions = categorical (n=5, one-hot)                     \n",
        "special_conditions_at_site = categorical (n=7, one-hot)                 \n",
        "carriageway_hazards = categorical (n=6, one-hot)                       \n",
        "urban_or_rural_area = categorical (n=2, one-hot)                     \n",
        "lsoa_of_accident_location =  infinite (consider dropping))                \n",
        "police_force = around 50 (consider dropping)                           \n",
        "local_authority_district = infinite (consider dropping)                   \n",
        "local_authority_highway = infinite (consider dropping) \n",
        "\n",
        "vehicle_data:\n",
        "Vehicle_Type     = 19 (consider dropping or regrouping)                   \n",
        "Towing_and_Articulation          = categorical (n=6, DROP because almost always no tow)\n",
        "Vehicle_Manoeuvre                    = categorical (n=18, consider dropping or regrouping)\n",
        "Vehicle_Location-Restricted_Lane    = categorical (n=10, consider dropping or regrouping)\n",
        "Junction_Location                   = categorical (n=9, consider dropping or regrouping)\n",
        "Skidding_and_Overturning             = categorical (n=6, DROP because almost all None)\n",
        "Hit_Object_in_Carriageway            = categorical (n=10, DROP because almost all None)\n",
        "Vehicle_Leaving_Carriageway          = categorical (n=9, DROP because almost all None)\n",
        "Hit_Object_off_Carriageway           = categorical (n=10, DROP because almost all None)\n",
        "1st_Point_of_Impact = categorical(n=5, one-hot)\n",
        "Was_Vehicle_Left_Hand_Drive?    = categorical (n=2, DROP because almost all No)\n",
        "Journey_Purpose_of_Driver      = categorical (n=6, one-hot)\n",
        "Sex_of_Driver              = categorical (n=2, one-hot, Drop \"Not known\" (34'130))\n",
        "Propulsion_Code             = categorical (n=9, one-hot for \"Petrol\" and \"Heavy oil\", randomnly assign others)\n",
        "'''\n"
      ],
      "execution_count": 0,
      "outputs": [
        {
          "output_type": "stream",
          "text": [
            "Checking each column for train and vehicle data: \n",
            " Not at junction or within 20 metres    56372\n",
            "T or staggered junction                42752\n",
            "Crossroads                             13192\n",
            "Roundabout                             11733\n",
            "Private drive or entrance               4265\n",
            "Other junction                          3581\n",
            "Slip road                               1950\n",
            "Mini-roundabout                         1700\n",
            "More than 4 arms (not roundabout)        924\n",
            "Name: junction_detail, dtype: int64\n"
          ],
          "name": "stdout"
        },
        {
          "output_type": "execute_result",
          "data": {
            "text/plain": [
              "'\\ntrain_data:\\nn = number of categories\\nroad_type = categorical (n=6, one-hot)\\ndate = text (clean by removing year and day)\\ntime = many different values (here makes sense to int() and StandardScale)\\n1st_road_class = categorical (n=6, one-hot)\\njunction_detail = categorical (n=9, one-hot)\\njunction_control = categorical (n=5, one-hot)\\n2nd_road_class = categorical (n=6, one-hot)\\npedestrian_crossing-human_control = categorical (n=3, one-hot)\\npedestrian_crossing-physical_facilities = categorical (n=6, one-hot)\\nlight_conditions = categorical (n=5, one-hot)\\nweather_conditions = categorical (n=9, one-hot)                        \\nroad_surface_conditions = categorical (n=5, one-hot)                     \\nspecial_conditions_at_site = categorical (n=7, one-hot)                 \\ncarriageway_hazards = categorical (n=6, one-hot)                       \\nurban_or_rural_area = categorical (n=2, one-hot)                     \\nlsoa_of_accident_location =  infinite (consider dropping))                \\npolice_force = around 50 (consider dropping)                           \\nlocal_authority_district = infinite (consider dropping)                   \\nlocal_authority_highway = infinite (consider dropping) \\n\\nvehicle_data:\\nVehicle_Type     = 19 (consider dropping or regrouping)                   \\nTowing_and_Articulation          = categorical (n=6, DROP because almost always no tow)\\nVehicle_Manoeuvre                    = categorical (n=18, consider dropping or regrouping)\\nVehicle_Location-Restricted_Lane    = categorical (n=10, consider dropping or regrouping)\\nJunction_Location                   = categorical (n=9, consider dropping or regrouping)\\nSkidding_and_Overturning             = categorical (n=6, DROP because almost all None)\\nHit_Object_in_Carriageway            = categorical (n=10, DROP because almost all None)\\nVehicle_Leaving_Carriageway          = categorical (n=9, DROP because almost all None)\\nHit_Object_off_Carriageway           = categorical (n=10, DROP because almost all None)\\n1st_Point_of_Impact = categorical(n=5, one-hot)\\nWas_Vehicle_Left_Hand_Drive?    = categorical (n=2, DROP because almost all No)\\nJourney_Purpose_of_Driver      = categorical (n=6, one-hot)\\nSex_of_Driver              = categorical (n=2, one-hot, Drop \"Not known\" (34\\'130))\\nPropulsion_Code             = categorical (n=9, one-hot for \"Petrol\" and \"Heavy oil\", randomnly assign others)\\n'"
            ]
          },
          "metadata": {
            "tags": []
          },
          "execution_count": 8
        }
      ]
    },
    {
      "metadata": {
        "id": "ljz4nU6EOFxO",
        "colab_type": "code",
        "outputId": "6c33c24e-8872-4419-d803-7730a0d4e613",
        "colab": {
          "base_uri": "https://localhost:8080/",
          "height": 88
        }
      },
      "cell_type": "code",
      "source": [
        "#Is the dependent variable imbalanced?\n",
        "import numpy as np\n",
        "import seaborn as sns\n",
        "import matplotlib.pyplot as plt\n",
        "import matplotlib as matplotlib\n",
        "\n",
        "print(\"Train_data: \\n\", train_data['target'].value_counts())\n",
        "\n",
        "#We do have imbalanced classes!\n",
        "#put higher emphasis on 1 to avoid model only predicting 0 "
      ],
      "execution_count": 0,
      "outputs": [
        {
          "output_type": "stream",
          "text": [
            "Train_data: \n",
            " 0    113160\n",
            "1     23415\n",
            "Name: target, dtype: int64\n"
          ],
          "name": "stdout"
        }
      ]
    },
    {
      "metadata": {
        "id": "lvqn-TPsRScL",
        "colab_type": "code",
        "outputId": "b09aa025-55cf-4b09-ef34-f89dd7671302",
        "colab": {
          "base_uri": "https://localhost:8080/",
          "height": 735
        }
      },
      "cell_type": "code",
      "source": [
        "#Check for Redundant Variables in Training Data based on Correlation Matrix\n",
        "corr_matrix = train_data.corr()\n",
        "f, ax = plt.subplots(figsize=(18, 10))\n",
        "sns.heatmap(corr_matrix, linewidths=2.0, ax=ax, annot=True)\n",
        "ax.set_title('Correlation Matrix for Training Data')\n",
        "\n",
        "'''\n",
        "We can see the following redundant variables in Training Data:\n",
        "|Correlation Coefficient| > 0.5\n",
        "\n",
        "location_easting_osgr = longitude\n",
        "location_northing_osgr = latitude\n",
        "Drop location_easting_osgr, location_northing_osgr\n",
        "'''\n",
        "\n",
        "#Check for Redundant Variables in Vehicle Data based on Correlation Matrix\n",
        "'''\n",
        "corr_matrix = vehicle_data.corr()\n",
        "f, ax = plt.subplots(figsize=(18, 10))\n",
        "sns.heatmap(corr_matrix, linewidths=2.0, ax=ax, annot=True)\n",
        "ax.set_title('Correlation Matrix for Vehicle Data')\n",
        "\n",
        "We can see the following redundant variables in Training Data:\n",
        "|Correlation Coefficient| > 0.5\n",
        "\n",
        "Driver_IMD_Decile = Vehicle_IMD_Decile\n",
        "Drop Vehicle_IMD_Decile\n",
        "'''"
      ],
      "execution_count": 0,
      "outputs": [
        {
          "output_type": "execute_result",
          "data": {
            "text/plain": [
              "\"\\ncorr_matrix = vehicle_data.corr()\\nf, ax = plt.subplots(figsize=(18, 10))\\nsns.heatmap(corr_matrix, linewidths=2.0, ax=ax, annot=True)\\nax.set_title('Correlation Matrix for Vehicle Data')\\n\\nWe can see the following redundant variables in Training Data:\\n|Correlation Coefficient| > 0.5\\n\\nDriver_IMD_Decile = Vehicle_IMD_Decile\\nDrop Vehicle_IMD_Decile\\n\""
            ]
          },
          "metadata": {
            "tags": []
          },
          "execution_count": 11
        },
        {
          "output_type": "display_data",
          "data": {
            "image/png": "[encoded data removed]",
            "text/plain": [
              "<matplotlib.figure.Figure at 0x7f0af42679b0>"
            ]
          },
          "metadata": {
            "tags": []
          }
        }
      ]
    },
    {
      "metadata": {
        "id": "-upTiCgYm_gZ",
        "colab_type": "code",
        "outputId": "51918306-79f4-4733-f55d-6e7f552076a1",
        "colab": {
          "base_uri": "https://localhost:8080/",
          "height": 35
        }
      },
      "cell_type": "code",
      "source": [
        "'''\n",
        "Summary of Exploratory Data Analysis (EDA) as a To-do List for Data Cleaning & Preprocessing\n",
        "\n",
        "- Columns to be dropped (because of NaNs, curse of dimensionality etc.):\n",
        "  Train_data: weather_conditions, time, date, location_easting_osgr, location_northing_osgr, lsoa_of_accident_location, police_force, local_authority_district, local_authority_highway, junction_control, 2nd_road_class\n",
        "  Vehicle_data: Vehicle_IMD_Decile, Engine_Capacity_(CC), Age_of_Vehicle, Driver_Home_Area_Type, \n",
        "    potentially to be dropped if not performing well: Towing_and_Articulation, Vehicle_Manoeuvre, Vehicle_Location-Restricted_Lane, Junction_Location, Skidding_and_Overturning, Hit_Object_in_Carriageway            \n",
        "                                                      Vehicle_Leaving_Carriageway, Hit_Object_off_Carriageway, Was_Vehicle_Left_Hand_Drive?, Propulsion_Code, Age_of_Driver\n",
        "\n",
        "- Columns that need missing value imputation (choosing the mode as imputation strategy):\n",
        "  Train_data: lsoa_of_accident_location\n",
        "  Vehicle_data: Towing_and_Articulation, Vehicle_Manoeuvre, Vehicle_Location-Restricted_Lane, Junction_Location, Skidding_and_Overturning, Hit_Object_in_Carriageway, Vehicle_Leaving_Carriageway, Hit_Object_off_Carriageway, 1st_Point_of_Impact, Was_Vehicle_Left_Hand_Drive?\n",
        "\n",
        "- Type 'Object' columns with label and one-hot encoding:\n",
        "  Train_data: road_type, junction_detail, 1st_road_class, pedestrian_crossing-human_control, pedestrian_crossing-physical_facilities, light_conditions,\n",
        "              road_surface_conditions, special_conditions_at_site, carriageway_hazards\n",
        "  Vehicle_data: 1st_Point_of_Impact, Sex_of_Driver (Drop 'Not known'), Journey_Purpose_of_Driver\n",
        "\n",
        "- Some object columns are worth more advanced preprocessing\n",
        "  Train_data: date (clean by removing year and day), time (here makes sense to int() and StandardScale), \n",
        "  Vehicle_data: Vehicle_Type(19, regrouping), \n",
        "\n",
        "- All int64 and float64 columns to be standardized/StandardScaled\n",
        "\n",
        "- Handle imbalanced dependent variable/target: put higher emphasis on 1's than on O's\n",
        "\n",
        "- Check for PCA (Principal Component Analysis), to determine which features cause the most variance in regards to the dependent variable\n",
        "\n",
        "- Join Training Data with Vehicle Data on accident_id (several vehicles per accident)\n",
        "\n",
        "- Train_test_split\n",
        "\n",
        "- Apply Models\n",
        "\n",
        "'''\n",
        "\n",
        "'''END OF Part C - EXPLORATORY DATA ANALYSIS (EDA)'''"
      ],
      "execution_count": 0,
      "outputs": [
        {
          "output_type": "execute_result",
          "data": {
            "text/plain": [
              "'END OF Part C - EXPLORATORY DATA ANALYSIS (EDA)'"
            ]
          },
          "metadata": {
            "tags": []
          },
          "execution_count": 12
        }
      ]
    },
    {
      "metadata": {
        "id": "2xFWLMexrQ6G",
        "colab_type": "code",
        "colab": {}
      },
      "cell_type": "code",
      "source": [
        "'''Part D - Data Cleaning & Preprocessing'''\n",
        "\n",
        "#Drops\n",
        "train_data = train_data.drop(['junction_detail','number_of_casualties', 'local_authority_district', 'number_of_vehicles', 'urban_or_rural_area', 'weather_conditions', 'date', 'time', 'junction_control', '2nd_road_class', 'location_easting_osgr', 'location_northing_osgr', 'lsoa_of_accident_location', 'police_force', 'local_authority_district', 'local_authority_highway'], axis=1)\n",
        "test_data = test_data.drop(['junction_detail','number_of_casualties', 'local_authority_district', 'number_of_vehicles', 'urban_or_rural_area', 'weather_conditions', 'date', 'time', 'junction_control', '2nd_road_class', 'location_easting_osgr', 'location_northing_osgr', 'lsoa_of_accident_location', 'police_force', 'local_authority_district', 'local_authority_highway'], axis=1)\n",
        "#vehicle_data.drop(['Sex_of_Driver','Propulsion_Code', 'Age_of_Driver', 'Engine_Capacity_(CC)', 'Age_of_Vehicle', 'Driver_Home_Area_Type', 'Vehicle_IMD_Decile'], axis=1)\n",
        "#'Towing_and_Articulation', 'Vehicle_Manoeuvre', 'Vehicle_Location-Restricted_Lane', 'Junction_Location', 'Skidding_and_Overturning', 'Hit_Object_in_Carriageway', 'Vehicle_Leaving_Carriageway', 'Hit_Object_off_Carriageway', 'Was_Vehicle_Left_Hand_Drive?'"
      ],
      "execution_count": 0,
      "outputs": []
    },
    {
      "metadata": {
        "id": "CnAUHG8tGu-B",
        "colab_type": "code",
        "outputId": "dcac052e-6a09-46a8-be8d-69674b378484",
        "colab": {
          "base_uri": "https://localhost:8080/",
          "height": 141
        }
      },
      "cell_type": "code",
      "source": [
        "print(train_data.columns)"
      ],
      "execution_count": 0,
      "outputs": [
        {
          "output_type": "stream",
          "text": [
            "Index(['accident_id', 'longitude', 'latitude', '1st_road_class',\n",
            "       '1st_road_number', 'road_type', 'speed_limit', '2nd_road_number',\n",
            "       'pedestrian_crossing-human_control',\n",
            "       'pedestrian_crossing-physical_facilities', 'light_conditions',\n",
            "       'road_surface_conditions', 'special_conditions_at_site',\n",
            "       'carriageway_hazards', 'target'],\n",
            "      dtype='object')\n"
          ],
          "name": "stdout"
        }
      ]
    },
    {
      "metadata": {
        "id": "XouOHa3dvIF1",
        "colab_type": "code",
        "outputId": "80f8e9a7-6951-41cc-c0b6-529d8898d59a",
        "colab": {
          "base_uri": "https://localhost:8080/",
          "height": 55
        }
      },
      "cell_type": "code",
      "source": [
        "#Missing Value Imputation with Mode for columns defined above\n",
        "#train_data.lsoa_of_accident_location.fillna(train_data.lsoa_of_accident_location.mode()[0], inplace=True)\n",
        "\n",
        "'''\n",
        "vehicle_data.Towing_and_Articulation.fillna(vehicle_data.Towing_and_Articulation.mode()[0], inplace=True)\n",
        "vehicle_data.Vehicle_Manoeuvre.fillna(vehicle_data.Vehicle_Manoeuvre.mode()[0], inplace=True)\n",
        "vehicle_data['Vehicle_Location-Restricted_Lane'].fillna(vehicle_data['Vehicle_Location-Restricted_Lane'].mode()[0], inplace=True)\n",
        "vehicle_data.Junction_Location.fillna(vehicle_data.Junction_Location.mode()[0], inplace=True)\n",
        "vehicle_data.Skidding_and_Overturning.fillna(vehicle_data.Skidding_and_Overturning.mode()[0], inplace=True)\n",
        "vehicle_data.Hit_Object_in_Carriageway.fillna(vehicle_data.Hit_Object_in_Carriageway.mode()[0], inplace=True)\n",
        "vehicle_data.Vehicle_Leaving_Carriageway.fillna(vehicle_data.Vehicle_Leaving_Carriageway.mode()[0], inplace=True)\n",
        "vehicle_data.Hit_Object_off_Carriageway.fillna(vehicle_data.Hit_Object_off_Carriageway.mode()[0], inplace=True)\n",
        "vehicle_data['1st_Point_of_Impact'].fillna(vehicle_data['1st_Point_of_Impact'].mode()[0], inplace=True)\n",
        "vehicle_data['Was_Vehicle_Left_Hand_Drive?'].fillna(vehicle_data['Was_Vehicle_Left_Hand_Drive?'].mode()[0], inplace=True)\n",
        "'''\n"
      ],
      "execution_count": 0,
      "outputs": [
        {
          "output_type": "execute_result",
          "data": {
            "text/plain": [
              "\"\\nvehicle_data.Towing_and_Articulation.fillna(vehicle_data.Towing_and_Articulation.mode()[0], inplace=True)\\nvehicle_data.Vehicle_Manoeuvre.fillna(vehicle_data.Vehicle_Manoeuvre.mode()[0], inplace=True)\\nvehicle_data['Vehicle_Location-Restricted_Lane'].fillna(vehicle_data['Vehicle_Location-Restricted_Lane'].mode()[0], inplace=True)\\nvehicle_data.Junction_Location.fillna(vehicle_data.Junction_Location.mode()[0], inplace=True)\\nvehicle_data.Skidding_and_Overturning.fillna(vehicle_data.Skidding_and_Overturning.mode()[0], inplace=True)\\nvehicle_data.Hit_Object_in_Carriageway.fillna(vehicle_data.Hit_Object_in_Carriageway.mode()[0], inplace=True)\\nvehicle_data.Vehicle_Leaving_Carriageway.fillna(vehicle_data.Vehicle_Leaving_Carriageway.mode()[0], inplace=True)\\nvehicle_data.Hit_Object_off_Carriageway.fillna(vehicle_data.Hit_Object_off_Carriageway.mode()[0], inplace=True)\\nvehicle_data['1st_Point_of_Impact'].fillna(vehicle_data['1st_Point_of_Impact'].mode()[0], inplace=True)\\nvehicle_data['Was_Vehicle_Left_Hand_Drive?'].fillna(vehicle_data['Was_Vehicle_Left_Hand_Drive?'].mode()[0], inplace=True)\\n\""
            ]
          },
          "metadata": {
            "tags": []
          },
          "execution_count": 16
        }
      ]
    },
    {
      "metadata": {
        "id": "tlB1feDPsOuR",
        "colab_type": "code",
        "outputId": "9a52e13f-6bff-4f73-f43f-64fd2d2c3582",
        "colab": {
          "base_uri": "https://localhost:8080/",
          "height": 55
        }
      },
      "cell_type": "code",
      "source": [
        "#label and one-hot encoding\n",
        "from sklearn.preprocessing import LabelEncoder\n",
        "le = LabelEncoder() \n",
        "from sklearn.preprocessing import OneHotEncoder\n",
        "enc = OneHotEncoder()\n",
        "\n",
        "'''train_data.apply(LabelEncoder().fit_transform)'''\n",
        "\n",
        "\n",
        "'''\n",
        "le.fit_transform(train_data['longitude', 'latitude',  'number_of_vehicles', 'number_of_casualties', '1st_road_number', 'speed_limit', '2nd_road_number', 'road_type', 'junction_detail', '1st_road_class',\n",
        "                 'pedestrian_crossing-human_control', 'pedestrian_crossing-physical_facilities', 'light_conditions', 'road_surface_conditions', 'special_conditions_at_site', 'carriageway_hazards'])\n",
        "                 \n",
        "'''\n",
        "\n",
        "\n",
        "test_data['longitude'] = le.fit_transform(test_data['longitude'].astype(str))\n",
        "test_data['latitude'] = le.fit_transform(test_data['latitude'].astype(str))\n",
        "#train_data['number_of_vehicles'] = le.fit_transform(train_data['number_of_vehicles'].astype(str))\n",
        "#train_data['number_of_casualties'] = le.fit_transform(train_data['number_of_casualties'].astype(str))\n",
        "test_data['1st_road_number'] = le.fit_transform(test_data['1st_road_number'].astype(str))\n",
        "test_data['speed_limit'] = le.fit_transform(test_data['speed_limit'].astype(str))\n",
        "test_data['2nd_road_number'] = le.fit_transform(test_data['2nd_road_number'].astype(str))\n",
        "\n",
        "test_data['road_type'] = le.fit_transform(test_data['road_type'].astype(str))\n",
        "#train_data['road_type'] = enc.fit_transform(train_data['road_type'].reshape(-1,1)).toarray()\n",
        "\n",
        "#train_data['junction_detail'] = le.fit_transform(train_data['junction_detail'].astype(str))\n",
        "#train_data['junction_detail'] = enc.fit_transform(train_data['junction_detail'].reshape(-1,1))\n",
        "\n",
        "test_data['1st_road_class'] = le.fit_transform(test_data['1st_road_class'].astype(str))\n",
        "#train_data['1st_road_class'] = enc.fit_transform(train_data['1st_road_class'].reshape(-1,1))\n",
        "\n",
        "test_data['pedestrian_crossing-human_control'] = le.fit_transform(test_data['pedestrian_crossing-human_control'].astype(str))\n",
        "#train_data['pedestrian_crossing-human_control'] = enc.fit_transform(train_data['pedestrian_crossing-human_control'].reshape(-1,1))\n",
        "\n",
        "test_data['pedestrian_crossing-physical_facilities'] = le.fit_transform(test_data['pedestrian_crossing-physical_facilities'].astype(str))\n",
        "#train_data['pedestrian_crossing-physical_facilities'] = enc.fit_transform(train_data['pedestrian_crossing-physical_facilities'].reshape(-1,1))\n",
        "\n",
        "test_data['light_conditions'] = le.fit_transform(test_data['light_conditions'].astype(str))\n",
        "#train_data['light_conditions'] = enc.fit_transform(train_data['light_conditions'].reshape(-1,1))\n",
        "\n",
        "test_data['road_surface_conditions'] = le.fit_transform(test_data['road_surface_conditions'].astype(str))\n",
        "#train_data['road_surface_conditions'] = enc.fit_transform(train_data['road_surface_conditions'].reshape(-1,1))\n",
        "\n",
        "test_data['special_conditions_at_site'] = le.fit_transform(test_data['special_conditions_at_site'].astype(str))\n",
        "#train_data['special_conditions_at_site'] = enc.fit_transform(train_data['special_conditions_at_site'].reshape(-1,1))\n",
        "\n",
        "test_data['carriageway_hazards'] = le.fit_transform(test_data['carriageway_hazards'].astype(str))\n",
        "#train_data['carriageway_hazards'] = enc.fit_transform(train_data['carriageway_hazards'].reshape(-1,1))\n",
        "\n",
        "train_data['longitude'] = le.fit_transform(train_data['longitude'].astype(str))\n",
        "train_data['latitude'] = le.fit_transform(train_data['latitude'].astype(str))\n",
        "#train_data['number_of_vehicles'] = le.fit_transform(train_data['number_of_vehicles'].astype(str))\n",
        "#train_data['number_of_casualties'] = le.fit_transform(train_data['number_of_casualties'].astype(str))\n",
        "train_data['1st_road_number'] = le.fit_transform(train_data['1st_road_number'].astype(str))\n",
        "train_data['speed_limit'] = le.fit_transform(train_data['speed_limit'].astype(str))\n",
        "train_data['2nd_road_number'] = le.fit_transform(train_data['2nd_road_number'].astype(str))\n",
        "\n",
        "train_data['road_type'] = le.fit_transform(train_data['road_type'].astype(str))\n",
        "#train_data['road_type'] = enc.fit_transform(train_data['road_type'].reshape(-1,1)).toarray()\n",
        "\n",
        "#train_data['junction_detail'] = le.fit_transform(train_data['junction_detail'].astype(str))\n",
        "#train_data['junction_detail'] = enc.fit_transform(train_data['junction_detail'].reshape(-1,1))\n",
        "\n",
        "train_data['1st_road_class'] = le.fit_transform(train_data['1st_road_class'].astype(str))\n",
        "#train_data['1st_road_class'] = enc.fit_transform(train_data['1st_road_class'].reshape(-1,1))\n",
        "\n",
        "train_data['pedestrian_crossing-human_control'] = le.fit_transform(train_data['pedestrian_crossing-human_control'].astype(str))\n",
        "#train_data['pedestrian_crossing-human_control'] = enc.fit_transform(train_data['pedestrian_crossing-human_control'].reshape(-1,1))\n",
        "\n",
        "train_data['pedestrian_crossing-physical_facilities'] = le.fit_transform(train_data['pedestrian_crossing-physical_facilities'].astype(str))\n",
        "#train_data['pedestrian_crossing-physical_facilities'] = enc.fit_transform(train_data['pedestrian_crossing-physical_facilities'].reshape(-1,1))\n",
        "\n",
        "train_data['light_conditions'] = le.fit_transform(train_data['light_conditions'].astype(str))\n",
        "#train_data['light_conditions'] = enc.fit_transform(train_data['light_conditions'].reshape(-1,1))\n",
        "\n",
        "train_data['road_surface_conditions'] = le.fit_transform(train_data['road_surface_conditions'].astype(str))\n",
        "#train_data['road_surface_conditions'] = enc.fit_transform(train_data['road_surface_conditions'].reshape(-1,1))\n",
        "\n",
        "train_data['special_conditions_at_site'] = le.fit_transform(train_data['special_conditions_at_site'].astype(str))\n",
        "#train_data['special_conditions_at_site'] = enc.fit_transform(train_data['special_conditions_at_site'].reshape(-1,1))\n",
        "\n",
        "train_data['carriageway_hazards'] = le.fit_transform(train_data['carriageway_hazards'].astype(str))\n",
        "#train_data['carriageway_hazards'] = enc.fit_transform(train_data['carriageway_hazards'].reshape(-1,1))\n",
        "\n",
        "\n",
        "'''\n",
        "vehicle_data['1st_Point_of_Impact'] = le.fit_transform(vehicle_data['1st_Point_of_Impact'].astype(str))\n",
        "vehicle_data['1st_Point_of_Impact'] = enc.fit_transform(vehicle_data['1st_Point_of_Impact'].reshape(-1,1))\n",
        "\n",
        "vehicle_data['Journey_Purpose_of_Driver'] = le.fit_transform(vehicle_data['Journey_Purpose_of_Driver'].astype(str))\n",
        "vehicle_data['Journey_Purpose_of_Driver'] = enc.fit_transform(vehicle_data['Journey_Purpose_of_Driver'].reshape(-1,1))\n",
        "'''"
      ],
      "execution_count": 0,
      "outputs": [
        {
          "output_type": "execute_result",
          "data": {
            "text/plain": [
              "\"\\nvehicle_data['1st_Point_of_Impact'] = le.fit_transform(vehicle_data['1st_Point_of_Impact'].astype(str))\\nvehicle_data['1st_Point_of_Impact'] = enc.fit_transform(vehicle_data['1st_Point_of_Impact'].reshape(-1,1))\\n\\nvehicle_data['Journey_Purpose_of_Driver'] = le.fit_transform(vehicle_data['Journey_Purpose_of_Driver'].astype(str))\\nvehicle_data['Journey_Purpose_of_Driver'] = enc.fit_transform(vehicle_data['Journey_Purpose_of_Driver'].reshape(-1,1))\\n\""
            ]
          },
          "metadata": {
            "tags": []
          },
          "execution_count": 78
        }
      ]
    },
    {
      "metadata": {
        "id": "eV1OQgw58HM8",
        "colab_type": "code",
        "colab": {}
      },
      "cell_type": "code",
      "source": [
        "#Advanced Cleaning as summarised above, but no time\n",
        "#print(train_data['date'].head)\n",
        "#print(train_data.time.astype(int))"
      ],
      "execution_count": 0,
      "outputs": []
    },
    {
      "metadata": {
        "id": "byA7J2SyVt2z",
        "colab_type": "code",
        "colab": {}
      },
      "cell_type": "code",
      "source": [
        "'''Part E - Training and Evaluation with XGB, SGD, Logistic'''\n",
        "import numpy as np\n",
        "from sklearn import cross_validation\n",
        "from sklearn.model_selection import train_test_split\n",
        "x_train = train_data.drop(['target'], axis=1)\n",
        "y_train = train_data.target\n",
        "x_test = test_data.drop(['target'], axis=1)\n",
        "y_test = test_data.target\n",
        "#x_train, x_test, y_train, y_test = cross_validation.train_test_split(x, y, test_size = 0.25)\n",
        "#print(len(x_train))"
      ],
      "execution_count": 0,
      "outputs": []
    },
    {
      "metadata": {
        "id": "Kgd_DVLROD6R",
        "colab_type": "code",
        "outputId": "7c51ed77-4425-4a6e-b51f-3187daf2c1c0",
        "colab": {
          "base_uri": "https://localhost:8080/",
          "height": 88
        }
      },
      "cell_type": "code",
      "source": [
        "print(len(x_train))\n",
        "print(len(y_train))\n",
        "print(len(x_test))\n",
        "print(len(y_test))"
      ],
      "execution_count": 0,
      "outputs": [
        {
          "output_type": "stream",
          "text": [
            "136575\n",
            "136575\n",
            "129950\n",
            "129950\n"
          ],
          "name": "stdout"
        }
      ]
    },
    {
      "metadata": {
        "id": "B5TgkrpOBVmo",
        "colab_type": "code",
        "colab": {}
      },
      "cell_type": "code",
      "source": [
        "#StandardScaler\n",
        "from sklearn.preprocessing import StandardScaler\n",
        "scaler = StandardScaler()\n",
        "\n",
        "train_data = scaler.fit_transform(train_data)\n",
        "test_data = scaler.fit_transform(test_data)\n",
        "\n",
        "#train_data = train_data.astype(str)\n",
        "#train_data = scaler.fit_transform(train_data)"
      ],
      "execution_count": 0,
      "outputs": []
    },
    {
      "metadata": {
        "id": "byndtn25Bo_1",
        "colab_type": "code",
        "outputId": "640040ff-8b3e-4e89-828f-dd33812f55ee",
        "colab": {
          "base_uri": "https://localhost:8080/",
          "height": 72
        }
      },
      "cell_type": "code",
      "source": [
        "#1st Model - Popular XGBClassifier\n",
        "import xgboost as xgb\n",
        "from xgboost import XGBClassifier\n",
        "xgb_model = XGBClassifier(booster='gbtree', n_estimators = 1000, learning_rate = 0.05, reg_alpha=0, scale_pos_weight=1.2, subsample=1, max_depth=15, gamma=0)\n",
        "xgb_model.fit(x_train, y_train, early_stopping_rounds = 10, eval_set = [(x_test, y_test)], verbose = False)\n",
        "#print(xgb_model) to see parameters\n",
        "#reg_lambda=100\n",
        "xgb_predictions = xgb_model.predict(x_test, ntree_limit=xgb_model.best_ntree_limit)\n",
        "xgb_predictions = xgb_predictions.round()"
      ],
      "execution_count": 0,
      "outputs": [
        {
          "output_type": "stream",
          "text": [
            "/usr/local/lib/python3.6/dist-packages/sklearn/preprocessing/label.py:151: DeprecationWarning: The truth value of an empty array is ambiguous. Returning False, but in future this will result in an error. Use `array.size > 0` to check that an array is not empty.\n",
            "  if diff:\n"
          ],
          "name": "stderr"
        }
      ]
    },
    {
      "metadata": {
        "id": "-NrVu8xaBt2Z",
        "colab_type": "code",
        "outputId": "74b8c232-6d8b-4c44-a230-5f313d82d5b1",
        "colab": {
          "base_uri": "https://localhost:8080/",
          "height": 35
        }
      },
      "cell_type": "code",
      "source": [
        "#Evaluation of XGBClassifier as F1-Score\n",
        "from sklearn.metrics import f1_score\n",
        "f1 = f1_score(y_test, xgb_predictions, average='weighted')\n",
        "print('f1 Score of XGBClassifier is:', f1)"
      ],
      "execution_count": 0,
      "outputs": [
        {
          "output_type": "stream",
          "text": [
            "f1 Score of XGBClassifier is: 0.3491071496182984\n"
          ],
          "name": "stdout"
        }
      ]
    },
    {
      "metadata": {
        "id": "2bnwZaytB0KF",
        "colab_type": "code",
        "outputId": "f4f3fa0b-6444-445c-d595-c4bb03b7ede4",
        "colab": {
          "base_uri": "https://localhost:8080/",
          "height": 55
        }
      },
      "cell_type": "code",
      "source": [
        "'''\n",
        "#Further Models, no time - SGDClassifier (proposed by Scikit-Learn), Logistic Regression\n",
        "from sklearn import linear_model\n",
        "clf = linear_model.SGDClassifier(max_iter=1000)\n",
        "clf.fit(x, y)\n",
        "clf_pred = clf.predict(x_test)\n",
        "\n",
        "#Evaluation of SGDClassifier as F1-Score\n",
        "from sklearn.metrics import f1_score\n",
        "f1 = f1_score(y_test, clf_pred, average='weighted')\n",
        "print('f1 Score of SGDClassifier is:', f1)\n",
        "\n",
        "#Logistic Regression\n",
        "from sklearn.linear_model import LogisticRegression\n",
        "clf4 = LogisticRegression()\n",
        "clf4.fit(x_train, y_train)\n",
        "y_pred = clf4.predict(x_test)\n",
        "\n",
        "#Evaluation of Logistic Regression as F1-Score\n",
        "from sklearn.metrics import f1_score\n",
        "f1 = f1_score(y_test, clf4, average='weighted')\n",
        "print('f1 Score of Logistic Regression is:', f1)\n",
        "'''"
      ],
      "execution_count": 0,
      "outputs": [
        {
          "output_type": "execute_result",
          "data": {
            "text/plain": [
              "\"\\n#Further Models, no time - SGDClassifier (proposed by Scikit-Learn), Logistic Regression\\nfrom sklearn import linear_model\\nclf = linear_model.SGDClassifier(max_iter=1000)\\nclf.fit(x, y)\\nclf_pred = clf.predict(x_test)\\n\\n#Evaluation of SGDClassifier as F1-Score\\nfrom sklearn.metrics import f1_score\\nf1 = f1_score(y_test, clf_pred, average='weighted')\\nprint('f1 Score of SGDClassifier is:', f1)\\n\\n#Logistic Regression\\nfrom sklearn.linear_model import LogisticRegression\\nclf4 = LogisticRegression()\\nclf4.fit(x_train, y_train)\\ny_pred = clf4.predict(x_test)\\n\\n#Evaluation of Logistic Regression as F1-Score\\nfrom sklearn.metrics import f1_score\\nf1 = f1_score(y_test, clf4, average='weighted')\\nprint('f1 Score of Logistic Regression is:', f1)\\n\""
            ]
          },
          "metadata": {
            "tags": []
          },
          "execution_count": 121
        }
      ]
    },
    {
      "metadata": {
        "id": "NX7hIhutFthV",
        "colab_type": "code",
        "colab": {}
      },
      "cell_type": "code",
      "source": [
        "'''\n",
        "Part F - Hyperparameter Optimization with GridSearchCV (no time left)\n",
        "\n",
        "\n",
        "from sklearn.model_selection import GridSearchCV\n",
        "parameters = [{'n_estimators': [1000,3000,5000]}] \n",
        "grid_search = GridSearchCV(estimator = xgb_model, param_grid = parameters, scoring = 'f1_weighted', cv = 10, n_jobs = -1)\n",
        "grid_search = grid_search.fit(x_train, y_train)\n",
        "print(\"Best Grid CV Score:\", grid_search.best_score_)\n",
        "print(\"Best Grid CV Params:\", grid_search.best_params_)\n",
        "'''"
      ],
      "execution_count": 0,
      "outputs": []
    },
    {
      "metadata": {
        "id": "EhCJGQ23Id47",
        "colab_type": "code",
        "outputId": "ca1fe1a7-a7af-4ab9-d9e6-77fc4dfff0ee",
        "colab": {
          "base_uri": "https://localhost:8080/",
          "height": 35
        }
      },
      "cell_type": "code",
      "source": [
        "'''Part G - Write Prediction to CSV'''\n",
        "\n",
        "'''\n",
        "import csv\n",
        "with open('valentinkahn.csv', 'w') as file:\n",
        "  writer = csv.writer(file)\n",
        "'''\n",
        "\n",
        "!pip install -U -q PyDrive\n",
        "import scipy.sparse as sparse\n",
        "import pydrive\n",
        "from pydrive.drive import GoogleDrive\n",
        "from pydrive.auth import GoogleAuth\n",
        "from google.colab import auth\n",
        "from google.colab import files\n",
        "from oauth2client.client import GoogleCredentials\n",
        "from oauth2client.client import GoogleCredentials\n",
        "auth.authenticate_user()\n",
        "gauth = GoogleAuth()\n",
        "gauth.credentials = GoogleCredentials.get_application_default()\n",
        "drive = GoogleDrive(gauth)\n",
        "predi = pd.DataFrame(xgb_predictions, x_test['accident_id'], columns=['target']).to_csv('valentinkahn.csv')\n",
        "uploaded = drive.CreateFile({'title': 'valentinkahn.csv'})\n",
        "uploaded.SetContentFile('valentinkahn.csv')\n",
        "uploaded.Upload()\n",
        "print('Uploaded file with ID {}'.format(uploaded.get('id')))"
      ],
      "execution_count": 0,
      "outputs": [
        {
          "output_type": "stream",
          "text": [
            "Uploaded file with ID 1HAOdnFBW21O_arasPGNK57NV8g7z3aRi\n"
          ],
          "name": "stdout"
        }
      ]
    },
    {
      "metadata": {
        "id": "oKzP9m0oXOo5",
        "colab_type": "code",
        "outputId": "019c6779-c6f9-4488-ec02-dd7e6d208d33",
        "colab": {
          "base_uri": "https://localhost:8080/",
          "height": 452
        }
      },
      "cell_type": "code",
      "source": [
        "#Rank variables for their causation of variance regarding the dependent variable/target\n",
        "from sklearn.decomposition import PCA\n",
        "pca = PCA()\n",
        "x_train = x_train.drop(['accident_id'], axis=1)\n",
        "featurenames = list(x_train.columns)\n",
        "x_train = pca.fit_transform(x_train)\n",
        "\n",
        "explained_variance = pca.explained_variance_ratio_\n",
        "indices = np.argsort(explained_variance)[::-1]\n",
        "print(\"Variance Causation Ranking:\")\n",
        "for f in range(train_data.shape[1]):\n",
        "    print(\"%d. %s (%f)\" % (f + 1, featurenames[f], explained_variance[indices[f]]))"
      ],
      "execution_count": 0,
      "outputs": [
        {
          "output_type": "stream",
          "text": [
            "Variance Causation Ranking:\n",
            "1. longitude (0.576549)\n",
            "2. latitude (0.422777)\n",
            "3. 1st_road_class (0.000492)\n",
            "4. 1st_road_number (0.000182)\n",
            "5. road_type (0.000000)\n",
            "6. speed_limit (0.000000)\n",
            "7. 2nd_road_number (0.000000)\n",
            "8. pedestrian_crossing-human_control (0.000000)\n",
            "9. pedestrian_crossing-physical_facilities (0.000000)\n",
            "10. light_conditions (0.000000)\n",
            "11. road_surface_conditions (0.000000)\n",
            "12. special_conditions_at_site (0.000000)\n",
            "13. carriageway_hazards (0.000000)\n"
          ],
          "name": "stdout"
        },
        {
          "output_type": "error",
          "ename": "IndexError",
          "evalue": "ignored",
          "traceback": [
            "\u001b[0;31m---------------------------------------------------------------------------\u001b[0m",
            "\u001b[0;31mIndexError\u001b[0m                                Traceback (most recent call last)",
            "\u001b[0;32m<ipython-input-80-6b7c2f39740b>\u001b[0m in \u001b[0;36m<module>\u001b[0;34m()\u001b[0m\n\u001b[1;32m     10\u001b[0m \u001b[0mprint\u001b[0m\u001b[0;34m(\u001b[0m\u001b[0;34m\"Variance Causation Ranking:\"\u001b[0m\u001b[0;34m)\u001b[0m\u001b[0;34m\u001b[0m\u001b[0m\n\u001b[1;32m     11\u001b[0m \u001b[0;32mfor\u001b[0m \u001b[0mf\u001b[0m \u001b[0;32min\u001b[0m \u001b[0mrange\u001b[0m\u001b[0;34m(\u001b[0m\u001b[0mtrain_data\u001b[0m\u001b[0;34m.\u001b[0m\u001b[0mshape\u001b[0m\u001b[0;34m[\u001b[0m\u001b[0;36m1\u001b[0m\u001b[0;34m]\u001b[0m\u001b[0;34m)\u001b[0m\u001b[0;34m:\u001b[0m\u001b[0;34m\u001b[0m\u001b[0m\n\u001b[0;32m---> 12\u001b[0;31m     \u001b[0mprint\u001b[0m\u001b[0;34m(\u001b[0m\u001b[0;34m\"%d. %s (%f)\"\u001b[0m \u001b[0;34m%\u001b[0m \u001b[0;34m(\u001b[0m\u001b[0mf\u001b[0m \u001b[0;34m+\u001b[0m \u001b[0;36m1\u001b[0m\u001b[0;34m,\u001b[0m \u001b[0mfeaturenames\u001b[0m\u001b[0;34m[\u001b[0m\u001b[0mf\u001b[0m\u001b[0;34m]\u001b[0m\u001b[0;34m,\u001b[0m \u001b[0mexplained_variance\u001b[0m\u001b[0;34m[\u001b[0m\u001b[0mindices\u001b[0m\u001b[0;34m[\u001b[0m\u001b[0mf\u001b[0m\u001b[0;34m]\u001b[0m\u001b[0;34m]\u001b[0m\u001b[0;34m)\u001b[0m\u001b[0;34m)\u001b[0m\u001b[0;34m\u001b[0m\u001b[0m\n\u001b[0m",
            "\u001b[0;31mIndexError\u001b[0m: list index out of range"
          ]
        }
      ]
    },
    {
      "metadata": {
        "id": "yDFmt2RAjrTC",
        "colab_type": "code",
        "colab": {}
      },
      "cell_type": "code",
      "source": [
        "Name: Valentin Kahn\n",
        "City, Date: Zürich, November 17, 2018\n",
        "\n",
        "Link to this code as a Google Colab Jupyter Notebook: https://colab.research.google.com/drive/1XuBeNwJUwrZJHNTRnYncUOnmgCLBEHBe\n",
        "\n",
        "Structure/Outline as follows:\n",
        "- Part A - Insights\n",
        "- Part B - Files Import and Data Preparation\n",
        "- Part C - Exploratory Data Analysis (EDA)\n",
        "- Part D - Data Cleaning & Preprocessing\n",
        "- Part E - Training and Evaluation with XGB, SGD, Logistic Regression\n",
        "- Part F - Hyperparameter Optimization with GridSearchCV (no time left)\n",
        "- Part G - Write Prediction to CSV\n",
        "\n",
        "\n",
        "Part A - Insights \n",
        "\n",
        "Brief approach: I started with an initial hypothesis on which features might help the UK government understand which actions to take in order to mitigate road accidents. After I imported the CSV files to Google Colab and shuffled the datasets, I performed Exploratory Data Analysis (EDA), including shapes and data types, check for imbalanced classes, correlation matrix to check \n",
        "for redundant features and scanning for missing values. I then cleaned and preprocessed the data by removing redundant values, dropping columns, imputing missing values based on their mode i.a. I encoded and scaled the features, divided into training and testing set and used the popular\n",
        "XGBClassifier as classification algorithm for the binary road accident fatality classification problem.\n",
        "\n",
        "I applied above feature engineering and data preprocessing ideas based on previous experience and observations made in the dataset (for instance: \"How many dimensions has feature X?\", \"How do features Y and Z correlate?\" etc.).\n",
        "\n",
        "I chose my final model (the XGBClassifier) based on previous experience and advise from multiple experts and experience data scientists. I wanted to perform hyperparameter optimization based on GridSearchCV on the XGBClassifier, but lacked time to complete this final step.\n",
        "Optimizing hyperparameters based on GridSearchCV thus would be my top approach that I would try to improve my score.\n",
        "\n",
        "Takeaways: I should have initially spent more time on intuition (for instance: \"Which variables are even under control of the UK government?\") and less on data exploration. Good intuition vastly decreases the time needed to perform exploration and subsequently preprocessing.\n",
        "\n",
        "Part B - Files Import and Data Preparation\n",
        "\n",
        "Google Colab was used as a private, cloud-based, open-source solution that handles all dependencies and simplifies the process\n",
        "NOTE: CODE IS OPTIMIZED FOR SIMPLE USE ON GOOGLE COLAB. SO PLEASE RUN THE CODE IN YOUR BROWSER (NO DEPENDENCIES NEEDED, JUST LOGIN WITH GOOGLE ACCOUNT): LINK: https://colab.research.google.com/drive/1XuBeNwJUwrZJHNTRnYncUOnmgCLBEHBe\n",
        "In top bar of Google Colab, select \"Runtime\" > \"Change runtime type\" > GPU to run much faster (especially important for one-hot encoding which takes long due to high dimensions for some features)\n",
        "\n",
        "Part C - Exploratory Data Analysis (EDA)\n",
        "\n",
        "About Data\n",
        "- Size Vehicles: 451'397 (so more cars than accidents, makes sense), Test: 130k, Train: 136k (about the same)\n",
        "- Key Question for Feature Selection: WHICH VARIABLES CAN UK GOVT EVEN INFLUENCE?\n",
        "- Groups of Variables\n",
        "  Accident: ID, Vehicles, Casualties, \n",
        "  Location-specific (UK govt influencable): Police Force, Longitude, Latitude, Local Authority District, Local Authority ONS, Urban or Rural Area, Speed Limit\n",
        "  Permanent Road Conditions (UK govt influencable): Junction Control, Junction Category Road #1, Junction Category Road #2, # for 1st Road, # for 2nd Road, Pedestrian Control, Pedestrian Facilities\n",
        "  Accident-specific: Police Officer Attendance (UK), Date, Time, Weather Conditions, Lightning (UK), Type of Road (UK)\n",
        "  Vehicles - Accident: Manoeuvre, Skidding, Object in Carriage, Object of Carriage, Vehicle Location, Junction Location, Vehicle Leaving Carriageway, 1st Point of Impact\n",
        "  Vehicles - Personal: ID, Journey Purpose, Sex, Age, Age Group, IMD Index (?), Driver Area, Type of Vehicle, Articulation, Left Hand  Drive, Engine Capacity, Vehicle Fuel Type, Age of Vehicle, Vehicle Reference\n",
        "  Temporary Road Conditions: Surface, Special Conditions, Carriageway Hazards\n",
        "  Target: Severity of accident\n",
        "\n",
        "Potential Selection of Algorithms to be tested\n",
        "- Linear Regression, Logistic Regression (seems to perform well on these tasks)\n",
        "- Decision Tree\n",
        "- SVM (SVC, allows for special handling of imbalanced classes)\n",
        "- Naive Bayes\n",
        "- KNN\n",
        "- KMC\n",
        "- Random Forest\n",
        "- Gradient Boosting\n",
        "- XGBoost Classifier (very popular, performs well, Scikit-Learn, p.33)\n",
        "- SGD Classifier (recommended by Scikit-Learn)\n",
        "\n",
        "\n",
        "Part C & D - Summary of Exploratory Data Analysis (EDA, Part C) as a To-do List for Data Cleaning & Preprocessing (Part D)\n",
        "\n",
        "- Columns to be dropped (because of NaNs, curse of dimensionality etc.):\n",
        "  Train_data: weather_conditions, time, date, location_easting_osgr, location_northing_osgr, lsoa_of_accident_location, police_force, local_authority_district, local_authority_highway, junction_control, 2nd_road_class\n",
        "  Vehicle_data: Vehicle_IMD_Decile, Engine_Capacity_(CC), Age_of_Vehicle, Driver_Home_Area_Type, \n",
        "    potentially to be dropped if not performing well: Towing_and_Articulation, Vehicle_Manoeuvre, Vehicle_Location-Restricted_Lane, Junction_Location, Skidding_and_Overturning, Hit_Object_in_Carriageway, Vehicle_Leaving_Carriageway, Hit_Object_off_Carriageway, Was_Vehicle_Left_Hand_Drive?, Propulsion_Code, Age_of_Driver\n",
        "\n",
        "- Columns that need missing value imputation (choosing the mode as imputation strategy):\n",
        "  Train_data: lsoa_of_accident_location\n",
        "  Vehicle_data: Towing_and_Articulation, Vehicle_Manoeuvre, Vehicle_Location-Restricted_Lane, Junction_Location, Skidding_and_Overturning, Hit_Object_in_Carriageway, Vehicle_Leaving_Carriageway, Hit_Object_off_Carriageway, 1st_Point_of_Impact, Was_Vehicle_Left_Hand_Drive?\n",
        "\n",
        "- Type 'Object' columns with label and one-hot encoding:\n",
        "  Train_data: road_type, junction_detail, 1st_road_class, pedestrian_crossing-human_control, pedestrian_crossing-physical_facilities, light_conditions, road_surface_conditions, special_conditions_at_site, carriageway_hazards\n",
        "  Vehicle_data: 1st_Point_of_Impact, Sex_of_Driver (Drop 'Not known'), Journey_Purpose_of_Driver\n",
        "\n",
        "- Some object columns are worth more advanced preprocessing\n",
        "  Train_data: date (clean by removing year and day), time (here makes sense to int() and StandardScale), \n",
        "  Vehicle_data: Vehicle_Type(19, regrouping), \n",
        "\n",
        "- All int64 and float64 columns to be standardized/StandardScaled\n",
        "\n",
        "- Handle imbalanced dependent variable/target: put higher emphasis on 1's than on O's\n",
        "\n",
        "- Check for PCA (Principal Component Analysis), to determine which features cause the most variance in regards to the dependent variable\n",
        "\n",
        "- Join Training Data with Vehicle Data on accident_id (several vehicles per accident), was no time left\n",
        "\n",
        "- Train_test_split\n",
        "\n",
        "- Apply Models\n",
        "\n",
        "\n"
      ],
      "execution_count": 0,
      "outputs": []
    }
  ]
}